{
    "cells": [
        {
            "metadata": {},
            "cell_type": "markdown",
            "source": "<center>\n    <img src=\"https://gitlab.com/ibm/skills-network/courses/placeholder101/-/raw/master/labs/module%201/images/IDSNlogo.png\" width=\"300\" alt=\"cognitiveclass.ai logo\"  />\n</center>\n"
        },
        {
            "metadata": {},
            "cell_type": "markdown",
            "source": "# **Exploratory Data Analysis Lab**\n"
        },
        {
            "metadata": {},
            "cell_type": "markdown",
            "source": "Estimated time needed: **30** minutes\n"
        },
        {
            "metadata": {},
            "cell_type": "markdown",
            "source": "In this module you get to work with the cleaned dataset from the previous module.\n\nIn this assignment you will perform the task of exploratory data analysis.\nYou will find out the distribution of data, presence of outliers and also determine the correlation between different columns in the dataset.\n"
        },
        {
            "metadata": {},
            "cell_type": "markdown",
            "source": "## Objectives\n"
        },
        {
            "metadata": {},
            "cell_type": "markdown",
            "source": "In this lab you will perform the following:\n"
        },
        {
            "metadata": {},
            "cell_type": "markdown",
            "source": "*   Identify the distribution of data in the dataset.\n\n*   Identify outliers in the dataset.\n\n*   Remove outliers from the dataset.\n\n*   Identify correlation between features in the dataset.\n"
        },
        {
            "metadata": {},
            "cell_type": "markdown",
            "source": "***\n"
        },
        {
            "metadata": {},
            "cell_type": "markdown",
            "source": "## Hands on Lab\n"
        },
        {
            "metadata": {},
            "cell_type": "markdown",
            "source": "Import the pandas module.\n"
        },
        {
            "metadata": {},
            "cell_type": "code",
            "source": "import pandas as pd\n# importing numpy as np\nimport numpy as np\nimport seaborn as sns\n # importing pyplot as plt\nimport matplotlib.pyplot as plt\nfrom scipy.stats import norm",
            "execution_count": 2,
            "outputs": []
        },
        {
            "metadata": {},
            "cell_type": "markdown",
            "source": "Load the dataset into a dataframe.\n"
        },
        {
            "metadata": {},
            "cell_type": "code",
            "source": "df = pd.read_csv(\"https://cf-courses-data.s3.us.cloud-object-storage.appdomain.cloud/IBM-DA0321EN-SkillsNetwork/LargeData/m2_survey_data.csv\")",
            "execution_count": 3,
            "outputs": []
        },
        {
            "metadata": {},
            "cell_type": "markdown",
            "source": "## Distribution\n"
        },
        {
            "metadata": {},
            "cell_type": "markdown",
            "source": "### Determine how the data is distributed\n"
        },
        {
            "metadata": {},
            "cell_type": "markdown",
            "source": "The column `ConvertedComp` contains Salary converted to annual USD salaries using the exchange rate on 2019-02-01.\n\nThis assumes 12 working months and 50 working weeks.\n"
        },
        {
            "metadata": {},
            "cell_type": "markdown",
            "source": "Plot the distribution curve for the column `ConvertedComp`.\n"
        },
        {
            "metadata": {},
            "cell_type": "code",
            "source": "# your code goes here\ndf['ConvertedComp'].dropna(inplace=True)\nx_axis = df['ConvertedComp']\nsns.distplot(x_axis)",
            "execution_count": 4,
            "outputs": [
                {
                    "output_type": "stream",
                    "text": "/opt/conda/envs/Python-3.8-main/lib/python3.8/site-packages/seaborn/distributions.py:2557: FutureWarning: `distplot` is a deprecated function and will be removed in a future version. Please adapt your code to use either `displot` (a figure-level function with similar flexibility) or `histplot` (an axes-level function for histograms).\n  warnings.warn(msg, FutureWarning)\n",
                    "name": "stderr"
                },
                {
                    "output_type": "execute_result",
                    "execution_count": 4,
                    "data": {
                        "text/plain": "<AxesSubplot:xlabel='ConvertedComp', ylabel='Density'>"
                    },
                    "metadata": {}
                },
                {
                    "output_type": "display_data",
                    "data": {
                        "text/plain": "<Figure size 432x288 with 1 Axes>",
                        "image/png": "[encoded data removed]"
                    },
                    "metadata": {
                        "needs_background": "light"
                    }
                }
            ]
        },
        {
            "metadata": {},
            "cell_type": "markdown",
            "source": "Plot the histogram for the column `ConvertedComp`.\n"
        },
        {
            "metadata": {},
            "cell_type": "code",
            "source": "# your code goes here\nplt.hist(df['ConvertedComp'])\nplt.show()",
            "execution_count": 5,
            "outputs": [
                {
                    "output_type": "display_data",
                    "data": {
                        "text/plain": "<Figure size 432x288 with 1 Axes>",
                        "image/png": "[encoded data removed]"
                    },
                    "metadata": {
                        "needs_background": "light"
                    }
                }
            ]
        },
        {
            "metadata": {},
            "cell_type": "markdown",
            "source": "What is the median of the column `ConvertedComp`?\n"
        },
        {
            "metadata": {},
            "cell_type": "code",
            "source": "# your code goes here\nprint(df['ConvertedComp'].median())\nprint(df['ConvertedComp'].mean())",
            "execution_count": 6,
            "outputs": [
                {
                    "output_type": "stream",
                    "text": "57745.0\n131596.7316197316\n",
                    "name": "stdout"
                }
            ]
        },
        {
            "metadata": {},
            "cell_type": "markdown",
            "source": "How many responders identified themselves only as a **Man**?\n"
        },
        {
            "metadata": {},
            "cell_type": "code",
            "source": "# your code goes here\nlen(df[df['Gender'] == 'Man'])",
            "execution_count": 7,
            "outputs": [
                {
                    "output_type": "execute_result",
                    "execution_count": 7,
                    "data": {
                        "text/plain": "10480"
                    },
                    "metadata": {}
                }
            ]
        },
        {
            "metadata": {},
            "cell_type": "markdown",
            "source": "Find out the  median ConvertedComp of responders identified themselves only as a **Woman**?\n"
        },
        {
            "metadata": {},
            "cell_type": "code",
            "source": "# your code goes here\ndf[df['Gender'] == 'Woman'].ConvertedComp.median()",
            "execution_count": 8,
            "outputs": [
                {
                    "output_type": "execute_result",
                    "execution_count": 8,
                    "data": {
                        "text/plain": "57708.0"
                    },
                    "metadata": {}
                }
            ]
        },
        {
            "metadata": {},
            "cell_type": "markdown",
            "source": "Give the five number summary for the column `Age`?\n"
        },
        {
            "metadata": {},
            "cell_type": "markdown",
            "source": "**Double click here for hint**.\n\n<!--\nmin,q1,median,q3,max of a column are its five number summary.\n-->\n"
        },
        {
            "metadata": {},
            "cell_type": "code",
            "source": "# your code goes here\nprint(df['Age'].min(), np.quantile(df['Age'], 0.25), df['Age'].median(), np.quantile(df['Age'], 0.75), df['Age'].max())",
            "execution_count": 9,
            "outputs": [
                {
                    "output_type": "stream",
                    "text": "16.0 nan 29.0 nan 99.0\n",
                    "name": "stdout"
                }
            ]
        },
        {
            "metadata": {},
            "cell_type": "markdown",
            "source": "Plot a histogram of the column `Age`.\n"
        },
        {
            "metadata": {},
            "cell_type": "code",
            "source": "# your code goes here\nplt.hist(df['Age'])\nplt.show()",
            "execution_count": 10,
            "outputs": [
                {
                    "output_type": "display_data",
                    "data": {
                        "text/plain": "<Figure size 432x288 with 1 Axes>",
                        "image/png": "[encoded data removed]"
                    },
                    "metadata": {
                        "needs_background": "light"
                    }
                }
            ]
        },
        {
            "metadata": {},
            "cell_type": "markdown",
            "source": "## Outliers\n"
        },
        {
            "metadata": {},
            "cell_type": "markdown",
            "source": "### Finding outliers\n"
        },
        {
            "metadata": {},
            "cell_type": "markdown",
            "source": "Find out if outliers exist in the column `ConvertedComp` using a box plot?\n"
        },
        {
            "metadata": {},
            "cell_type": "code",
            "source": "# your code goes here\ndf['ConvertedComp'].plot(kind ='box',figsize=(5,8))",
            "execution_count": 11,
            "outputs": [
                {
                    "output_type": "execute_result",
                    "execution_count": 11,
                    "data": {
                        "text/plain": "<AxesSubplot:>"
                    },
                    "metadata": {}
                },
                {
                    "output_type": "display_data",
                    "data": {
                        "text/plain": "<Figure size 360x576 with 1 Axes>",
                        "image/png": "[encoded data removed]"
                    },
                    "metadata": {
                        "needs_background": "light"
                    }
                }
            ]
        },
        {
            "metadata": {},
            "cell_type": "markdown",
            "source": "Find out the Inter Quartile Range for the column `ConvertedComp`.\n"
        },
        {
            "metadata": {},
            "cell_type": "code",
            "source": "# your code goes here\ndf['ConvertedComp'].dropna(inplace=True)\nQ1, Q3 = df['ConvertedComp'].quantile(.25), df['ConvertedComp'].quantile(.75)\nIQR =Q3 - Q1\nprint(IQR)",
            "execution_count": 12,
            "outputs": [
                {
                    "output_type": "stream",
                    "text": "73132.0\n",
                    "name": "stdout"
                }
            ]
        },
        {
            "metadata": {},
            "cell_type": "markdown",
            "source": "Find out the upper and lower bounds.\n"
        },
        {
            "metadata": {},
            "cell_type": "code",
            "source": "# your code goes here\nlower_limit = Q1 - 1.5 * IQR\nprint(lower_limit)\nupper_limit = Q3 + 1.5 * IQR\nprint(upper_limit)",
            "execution_count": 13,
            "outputs": [
                {
                    "output_type": "stream",
                    "text": "-82830.0\n209698.0\n",
                    "name": "stdout"
                }
            ]
        },
        {
            "metadata": {},
            "cell_type": "markdown",
            "source": "Identify how many outliers are there in the `ConvertedComp` column.\n"
        },
        {
            "metadata": {},
            "cell_type": "code",
            "source": "# your code goes here\nprint(df[(df['ConvertedComp'] < lower_limit) | (df['ConvertedComp'] > upper_limit)].ConvertedComp.count())\nprint(df[df['ConvertedComp'] < lower_limit].ConvertedComp.count())\n",
            "execution_count": 14,
            "outputs": [
                {
                    "output_type": "stream",
                    "text": "879\n0\n",
                    "name": "stdout"
                }
            ]
        },
        {
            "metadata": {},
            "cell_type": "markdown",
            "source": "Create a new dataframe by removing the outliers from the `ConvertedComp` column.\n"
        },
        {
            "metadata": {},
            "cell_type": "code",
            "source": "# your code goes here\ndf2 = df[~((df['ConvertedComp'] < lower_limit) | (df['ConvertedComp'] > upper_limit))]",
            "execution_count": 15,
            "outputs": []
        },
        {
            "metadata": {},
            "cell_type": "code",
            "source": "print(df2['ConvertedComp'].median())\nprint(df2['ConvertedComp'].mean())",
            "execution_count": 16,
            "outputs": [
                {
                    "output_type": "stream",
                    "text": "52704.0\n59883.20838915799\n",
                    "name": "stdout"
                }
            ]
        },
        {
            "metadata": {},
            "cell_type": "markdown",
            "source": "## Correlation\n"
        },
        {
            "metadata": {},
            "cell_type": "markdown",
            "source": "### Finding correlation\n"
        },
        {
            "metadata": {},
            "cell_type": "markdown",
            "source": "Find the correlation between `Age` and all other numerical columns.\n"
        },
        {
            "metadata": {},
            "cell_type": "code",
            "source": "# your code goes here\ndf2.corr()['Age'] ",
            "execution_count": 54,
            "outputs": [
                {
                    "output_type": "execute_result",
                    "execution_count": 54,
                    "data": {
                        "text/plain": "Respondent       0.027928\nCompTotal        0.012503\nConvertedComp    0.109655\nWorkWeekHrs      0.040690\nCodeRevHrs      -0.007431\nAge              1.000000\nName: Age, dtype: float64"
                    },
                    "metadata": {}
                }
            ]
        },
        {
            "metadata": {},
            "cell_type": "code",
            "source": "df2['Age'].median()",
            "execution_count": 55,
            "outputs": [
                {
                    "output_type": "execute_result",
                    "execution_count": 55,
                    "data": {
                        "text/plain": "29.0"
                    },
                    "metadata": {}
                }
            ]
        },
        {
            "metadata": {},
            "cell_type": "code",
            "source": "df['Age'].plot(kind ='box',figsize=(5,8))",
            "execution_count": 17,
            "outputs": [
                {
                    "output_type": "execute_result",
                    "execution_count": 17,
                    "data": {
                        "text/plain": "<AxesSubplot:>"
                    },
                    "metadata": {}
                },
                {
                    "output_type": "display_data",
                    "data": {
                        "text/plain": "<Figure size 360x576 with 1 Axes>",
                        "image/png": "[encoded data removed]"
                    },
                    "metadata": {
                        "needs_background": "light"
                    }
                }
            ]
        },
        {
            "metadata": {},
            "cell_type": "code",
            "source": "df['Age'].dropna(inplace=True)\nQ1_age, Q3_age = df['Age'].quantile(.25), df['Age'].quantile(.75)\nIQR_age =Q3 - Q1\n# your code goes here\nlower_limit_age = Q1_age - 1.5 * IQR_age\nupper_limit_age = Q3_age + 1.5 * IQR_age\nprint(df[df['Age'] < lower_limit_age].ConvertedComp.count())\n",
            "execution_count": 18,
            "outputs": [
                {
                    "output_type": "stream",
                    "text": "0\n",
                    "name": "stdout"
                }
            ]
        },
        {
            "metadata": {},
            "cell_type": "markdown",
            "source": "## Authors\n"
        },
        {
            "metadata": {},
            "cell_type": "markdown",
            "source": "Ramesh Sannareddy\n"
        },
        {
            "metadata": {},
            "cell_type": "markdown",
            "source": "### Other Contributors\n"
        },
        {
            "metadata": {},
            "cell_type": "markdown",
            "source": "Rav Ahuja\n"
        },
        {
            "metadata": {},
            "cell_type": "markdown",
            "source": "## Change Log\n"
        },
        {
            "metadata": {},
            "cell_type": "markdown",
            "source": "| Date (YYYY-MM-DD) | Version | Changed By        | Change Description                 |\n| ----------------- | ------- | ----------------- | ---------------------------------- |\n| 2020-10-17        | 0.1     | Ramesh Sannareddy | Created initial version of the lab |\n"
        },
        {
            "metadata": {},
            "cell_type": "markdown",
            "source": "Copyright \u00a9 2020 IBM Corporation. This notebook and its source code are released under the terms of the [MIT License](https://cognitiveclass.ai/mit-license?utm_medium=Exinfluencer&utm_source=Exinfluencer&utm_content=000026UJ&utm_term=10006555&utm_id=NA-SkillsNetwork-Channel-SkillsNetworkCoursesIBMDA0321ENSkillsNetwork21426264-2021-01-01&cm_mmc=Email_Newsletter-\\_-Developer_Ed%2BTech-\\_-WW_WW-\\_-SkillsNetwork-Courses-IBM-DA0321EN-SkillsNetwork-21426264&cm_mmca1=000026UJ&cm_mmca2=10006555&cm_mmca3=M12345678&cvosrc=email.Newsletter.M12345678&cvo_campaign=000026UJ).\n"
        }
    ],
    "metadata": {
        "kernelspec": {
            "name": "python3",
            "display_name": "Python 3.8",
            "language": "python"
        },
        "language_info": {
            "name": "python",
            "version": "3.8.12",
            "mimetype": "text/x-python",
            "codemirror_mode": {
                "name": "ipython",
                "version": 3
            },
            "pygments_lexer": "ipython3",
            "nbconvert_exporter": "python",
            "file_extension": ".py"
        }
    },
    "nbformat": 4,
    "nbformat_minor": 4
}